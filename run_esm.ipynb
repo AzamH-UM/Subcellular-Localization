{
 "cells": [
  {
   "cell_type": "code",
   "execution_count": 1,
   "metadata": {},
   "outputs": [
    {
     "name": "stderr",
     "output_type": "stream",
     "text": [
      "/home/azamh/anaconda3/envs/pyuul/envs/esm/lib/python3.10/site-packages/tqdm/auto.py:22: TqdmWarning: IProgress not found. Please update jupyter and ipywidgets. See https://ipywidgets.readthedocs.io/en/stable/user_install.html\n",
      "  from .autonotebook import tqdm as notebook_tqdm\n"
     ]
    }
   ],
   "source": [
    "#Use huggingface transformers library for ESM model\n",
    "import os\n",
    "os.chdir('/home/azamh/bioinf')\n",
    "import sys\n",
    "from transformers import EsmTokenizer, EsmModel, EsmForSequenceClassification\n",
    "from transformers import TrainingArguments, Trainer\n",
    "import evaluate\n",
    "import numpy as np\n",
    "import torch\n",
    "from utils.parse_data import *\n",
    "from utils.rep3d import *\n",
    "from utils.visuallize import *\n",
    "from script.models import *\n",
    "import matplotlib.pyplot as plt\n",
    "import seaborn as sns\n",
    "import torch\n",
    "from torch import nn\n",
    "torch.backends.cudnn.benchmark = True\n",
    "from sklearn.metrics import accuracy_score, matthews_corrcoef, classification_report, f1_score\n",
    "\n",
    "\n",
    "%load_ext autoreload\n",
    "%autoreload 2"
   ]
  },
  {
   "cell_type": "code",
   "execution_count": 2,
   "metadata": {},
   "outputs": [
    {
     "name": "stdout",
     "output_type": "stream",
     "text": [
      "NVIDIA GeForce RTX 2080 Ti\n",
      "cuda\n"
     ]
    }
   ],
   "source": [
    "#Get device \n",
    "device = get_device()\n",
    "print(device)"
   ]
  },
  {
   "cell_type": "code",
   "execution_count": 3,
   "metadata": {},
   "outputs": [
    {
     "name": "stdout",
     "output_type": "stream",
     "text": [
      "NVIDIA GeForce RTX 2080 Ti\n"
     ]
    }
   ],
   "source": [
    "print(torch.cuda.get_device_name(0))"
   ]
  },
  {
   "cell_type": "code",
   "execution_count": 4,
   "metadata": {},
   "outputs": [
    {
     "name": "stderr",
     "output_type": "stream",
     "text": [
      "Some weights of the model checkpoint at facebook/esm2_t30_150M_UR50D were not used when initializing EsmForSequenceClassification: ['lm_head.decoder.weight', 'lm_head.dense.bias', 'lm_head.layer_norm.bias', 'lm_head.layer_norm.weight', 'lm_head.dense.weight', 'lm_head.bias']\n",
      "- This IS expected if you are initializing EsmForSequenceClassification from the checkpoint of a model trained on another task or with another architecture (e.g. initializing a BertForSequenceClassification model from a BertForPreTraining model).\n",
      "- This IS NOT expected if you are initializing EsmForSequenceClassification from the checkpoint of a model that you expect to be exactly identical (initializing a BertForSequenceClassification model from a BertForSequenceClassification model).\n",
      "Some weights of EsmForSequenceClassification were not initialized from the model checkpoint at facebook/esm2_t30_150M_UR50D and are newly initialized: ['classifier.out_proj.bias', 'classifier.dense.bias', 'classifier.dense.weight', 'classifier.out_proj.weight']\n",
      "You should probably TRAIN this model on a down-stream task to be able to use it for predictions and inference.\n"
     ]
    },
    {
     "name": "stdout",
     "output_type": "stream",
     "text": [
      "N Gpus: 4\n"
     ]
    }
   ],
   "source": [
    "#Train ESM model to predict localization\n",
    "#repo = 'facebook/esm2_t6_8M_UR50D'\n",
    "#repo = 'facebook/esm2_t12_35M_UR50D'\n",
    "repo = 'facebook/esm2_t30_150M_UR50D'\n",
    "#repo = 'facebook/esm2_t33_650M_UR50D'\n",
    "#repo = 'facebook/esm2_t36_3B_UR50D'\n",
    "#repo = 'facebook/esm2_t48_15B_UR50D'\n",
    "\n",
    "#Load tokenizer and model\n",
    "tokenizer = EsmTokenizer.from_pretrained(repo)\n",
    "#esm_classifier = nn.DataParallel(EsmForSequenceClassification.from_pretrained(repo, num_labels = 10))\n",
    "esm_classifier = EsmForSequenceClassification.from_pretrained(repo, num_labels = 10)\n",
    "\n",
    "if torch.cuda.is_available():\n",
    "    esm_classifier.cuda()\n",
    "    print('N Gpus:', torch.cuda.device_count())"
   ]
  },
  {
   "cell_type": "code",
   "execution_count": 5,
   "metadata": {},
   "outputs": [
    {
     "data": {
      "text/html": [
       "<div>\n",
       "<style scoped>\n",
       "    .dataframe tbody tr th:only-of-type {\n",
       "        vertical-align: middle;\n",
       "    }\n",
       "\n",
       "    .dataframe tbody tr th {\n",
       "        vertical-align: top;\n",
       "    }\n",
       "\n",
       "    .dataframe thead th {\n",
       "        text-align: right;\n",
       "    }\n",
       "</style>\n",
       "<table border=\"1\" class=\"dataframe\">\n",
       "  <thead>\n",
       "    <tr style=\"text-align: right;\">\n",
       "      <th></th>\n",
       "      <th>Protein</th>\n",
       "      <th>Sequence</th>\n",
       "      <th>Location</th>\n",
       "      <th>Extra Location</th>\n",
       "      <th>Split</th>\n",
       "      <th>Location Label</th>\n",
       "    </tr>\n",
       "  </thead>\n",
       "  <tbody>\n",
       "    <tr>\n",
       "      <th>10700</th>\n",
       "      <td>Q9DA32</td>\n",
       "      <td>MPRTRNIGALCTLPEDTTHSGRPRRGVQRSYISRMAEPAPANMNDP...</td>\n",
       "      <td>Nucleus</td>\n",
       "      <td>M</td>\n",
       "      <td>train</td>\n",
       "      <td>0</td>\n",
       "    </tr>\n",
       "    <tr>\n",
       "      <th>10701</th>\n",
       "      <td>O42927</td>\n",
       "      <td>MNPTSFIYDKPPPPPIINKPFEQTNSSASLTQKNSSSETENVGRHG...</td>\n",
       "      <td>Nucleus</td>\n",
       "      <td>U</td>\n",
       "      <td>test</td>\n",
       "      <td>0</td>\n",
       "    </tr>\n",
       "    <tr>\n",
       "      <th>10704</th>\n",
       "      <td>Q8TAS1</td>\n",
       "      <td>MAGSGCAWGAEPPRFLEAFGRLWQVQSRLGSGSSASVYRVRCCGNP...</td>\n",
       "      <td>Nucleus</td>\n",
       "      <td>U</td>\n",
       "      <td>train</td>\n",
       "      <td>0</td>\n",
       "    </tr>\n",
       "    <tr>\n",
       "      <th>10706</th>\n",
       "      <td>Q96WW3</td>\n",
       "      <td>MAKSARSKSIRRNKKVLRENVFQPVIDERTKRLSAHLRDQVNDLTK...</td>\n",
       "      <td>Nucleus</td>\n",
       "      <td>U</td>\n",
       "      <td>train</td>\n",
       "      <td>0</td>\n",
       "    </tr>\n",
       "    <tr>\n",
       "      <th>10708</th>\n",
       "      <td>Q8VYI0</td>\n",
       "      <td>MAATTGLETLVDQIISVITNDGRNIVGVLKGFDQATNIILDESHER...</td>\n",
       "      <td>Nucleus</td>\n",
       "      <td>U</td>\n",
       "      <td>train</td>\n",
       "      <td>0</td>\n",
       "    </tr>\n",
       "    <tr>\n",
       "      <th>...</th>\n",
       "      <td>...</td>\n",
       "      <td>...</td>\n",
       "      <td>...</td>\n",
       "      <td>...</td>\n",
       "      <td>...</td>\n",
       "      <td>...</td>\n",
       "    </tr>\n",
       "    <tr>\n",
       "      <th>11076</th>\n",
       "      <td>Q9S850</td>\n",
       "      <td>MPGIRGPSEYSQEPPRHPSLKVNAKEPFNAEPPRSALVSSYVTPVD...</td>\n",
       "      <td>Peroxisome</td>\n",
       "      <td>U</td>\n",
       "      <td>test</td>\n",
       "      <td>9</td>\n",
       "    </tr>\n",
       "    <tr>\n",
       "      <th>11075</th>\n",
       "      <td>P11930</td>\n",
       "      <td>MSSSSSWRRAATVMLAAGWTHSSPAGFRLLLLQRAQNQRFLPGAHV...</td>\n",
       "      <td>Peroxisome</td>\n",
       "      <td>U</td>\n",
       "      <td>train</td>\n",
       "      <td>9</td>\n",
       "    </tr>\n",
       "    <tr>\n",
       "      <th>11074</th>\n",
       "      <td>Q9LRS0</td>\n",
       "      <td>MEITNVTEYDAIAKAKLPKMVYDYYASGAEDQWTLQENRNAFARIL...</td>\n",
       "      <td>Peroxisome</td>\n",
       "      <td>U</td>\n",
       "      <td>train</td>\n",
       "      <td>9</td>\n",
       "    </tr>\n",
       "    <tr>\n",
       "      <th>11073</th>\n",
       "      <td>A2AKK5</td>\n",
       "      <td>MMIKLIATPSNALVDEPVSIRATGLPPSQIVTIKATVKDENDNVFQ...</td>\n",
       "      <td>Peroxisome</td>\n",
       "      <td>U</td>\n",
       "      <td>train</td>\n",
       "      <td>9</td>\n",
       "    </tr>\n",
       "    <tr>\n",
       "      <th>11072</th>\n",
       "      <td>Q02969</td>\n",
       "      <td>MSQFGTTDIVSGSETPPYSGASYQDAQDDNTHPHSSDAGAEKFSAG...</td>\n",
       "      <td>Peroxisome</td>\n",
       "      <td>M</td>\n",
       "      <td>train</td>\n",
       "      <td>9</td>\n",
       "    </tr>\n",
       "  </tbody>\n",
       "</table>\n",
       "<p>8375 rows × 6 columns</p>\n",
       "</div>"
      ],
      "text/plain": [
       "      Protein                                           Sequence    Location  \\\n",
       "10700  Q9DA32  MPRTRNIGALCTLPEDTTHSGRPRRGVQRSYISRMAEPAPANMNDP...     Nucleus   \n",
       "10701  O42927  MNPTSFIYDKPPPPPIINKPFEQTNSSASLTQKNSSSETENVGRHG...     Nucleus   \n",
       "10704  Q8TAS1  MAGSGCAWGAEPPRFLEAFGRLWQVQSRLGSGSSASVYRVRCCGNP...     Nucleus   \n",
       "10706  Q96WW3  MAKSARSKSIRRNKKVLRENVFQPVIDERTKRLSAHLRDQVNDLTK...     Nucleus   \n",
       "10708  Q8VYI0  MAATTGLETLVDQIISVITNDGRNIVGVLKGFDQATNIILDESHER...     Nucleus   \n",
       "...       ...                                                ...         ...   \n",
       "11076  Q9S850  MPGIRGPSEYSQEPPRHPSLKVNAKEPFNAEPPRSALVSSYVTPVD...  Peroxisome   \n",
       "11075  P11930  MSSSSSWRRAATVMLAAGWTHSSPAGFRLLLLQRAQNQRFLPGAHV...  Peroxisome   \n",
       "11074  Q9LRS0  MEITNVTEYDAIAKAKLPKMVYDYYASGAEDQWTLQENRNAFARIL...  Peroxisome   \n",
       "11073  A2AKK5  MMIKLIATPSNALVDEPVSIRATGLPPSQIVTIKATVKDENDNVFQ...  Peroxisome   \n",
       "11072  Q02969  MSQFGTTDIVSGSETPPYSGASYQDAQDDNTHPHSSDAGAEKFSAG...  Peroxisome   \n",
       "\n",
       "      Extra Location  Split  Location Label  \n",
       "10700              M  train               0  \n",
       "10701              U   test               0  \n",
       "10704              U  train               0  \n",
       "10706              U  train               0  \n",
       "10708              U  train               0  \n",
       "...              ...    ...             ...  \n",
       "11076              U   test               9  \n",
       "11075              U  train               9  \n",
       "11074              U  train               9  \n",
       "11073              U  train               9  \n",
       "11072              M  train               9  \n",
       "\n",
       "[8375 rows x 6 columns]"
      ]
     },
     "execution_count": 5,
     "metadata": {},
     "output_type": "execute_result"
    }
   ],
   "source": [
    "#Read in deeploc dataset\n",
    "deeploc_df = read_deep_loc()\n",
    "\n",
    "#Drop extremely large sequences\n",
    "max_len = 500\n",
    "for index in deeploc_df.index:\n",
    "    if len(deeploc_df['Sequence'][index]) > max_len:\n",
    "        deeploc_df = deeploc_df.drop(index)\n",
    "\n",
    "deeploc_df"
   ]
  },
  {
   "cell_type": "code",
   "execution_count": 6,
   "metadata": {},
   "outputs": [
    {
     "data": {
      "text/html": [
       "<div>\n",
       "<style scoped>\n",
       "    .dataframe tbody tr th:only-of-type {\n",
       "        vertical-align: middle;\n",
       "    }\n",
       "\n",
       "    .dataframe tbody tr th {\n",
       "        vertical-align: top;\n",
       "    }\n",
       "\n",
       "    .dataframe thead th {\n",
       "        text-align: right;\n",
       "    }\n",
       "</style>\n",
       "<table border=\"1\" class=\"dataframe\">\n",
       "  <thead>\n",
       "    <tr style=\"text-align: right;\">\n",
       "      <th></th>\n",
       "      <th>Protein</th>\n",
       "      <th>Sequence</th>\n",
       "      <th>Location</th>\n",
       "      <th>Extra Location</th>\n",
       "      <th>Split</th>\n",
       "      <th>Location Label</th>\n",
       "      <th>PDB Path</th>\n",
       "    </tr>\n",
       "  </thead>\n",
       "  <tbody>\n",
       "    <tr>\n",
       "      <th>10700</th>\n",
       "      <td>Q9DA32</td>\n",
       "      <td>MPRTRNIGALCTLPEDTTHSGRPRRGVQRSYISRMAEPAPANMNDP...</td>\n",
       "      <td>Nucleus</td>\n",
       "      <td>M</td>\n",
       "      <td>train</td>\n",
       "      <td>0</td>\n",
       "      <td>data/deeploc_af2/AF-Q9DA32-F1-model_v4.pdb</td>\n",
       "    </tr>\n",
       "    <tr>\n",
       "      <th>10701</th>\n",
       "      <td>O42927</td>\n",
       "      <td>MNPTSFIYDKPPPPPIINKPFEQTNSSASLTQKNSSSETENVGRHG...</td>\n",
       "      <td>Nucleus</td>\n",
       "      <td>U</td>\n",
       "      <td>test</td>\n",
       "      <td>0</td>\n",
       "      <td>data/deeploc_af2/AF-O42927-F1-model_v4.pdb</td>\n",
       "    </tr>\n",
       "    <tr>\n",
       "      <th>10704</th>\n",
       "      <td>Q8TAS1</td>\n",
       "      <td>MAGSGCAWGAEPPRFLEAFGRLWQVQSRLGSGSSASVYRVRCCGNP...</td>\n",
       "      <td>Nucleus</td>\n",
       "      <td>U</td>\n",
       "      <td>train</td>\n",
       "      <td>0</td>\n",
       "      <td>data/deeploc_af2/AF-Q8TAS1-F1-model_v4.pdb</td>\n",
       "    </tr>\n",
       "    <tr>\n",
       "      <th>10706</th>\n",
       "      <td>Q96WW3</td>\n",
       "      <td>MAKSARSKSIRRNKKVLRENVFQPVIDERTKRLSAHLRDQVNDLTK...</td>\n",
       "      <td>Nucleus</td>\n",
       "      <td>U</td>\n",
       "      <td>train</td>\n",
       "      <td>0</td>\n",
       "      <td>data/deeploc_af2/AF-Q96WW3-F1-model_v4.pdb</td>\n",
       "    </tr>\n",
       "    <tr>\n",
       "      <th>10708</th>\n",
       "      <td>Q8VYI0</td>\n",
       "      <td>MAATTGLETLVDQIISVITNDGRNIVGVLKGFDQATNIILDESHER...</td>\n",
       "      <td>Nucleus</td>\n",
       "      <td>U</td>\n",
       "      <td>train</td>\n",
       "      <td>0</td>\n",
       "      <td>data/deeploc_af2/AF-Q8VYI0-F1-model_v4.pdb</td>\n",
       "    </tr>\n",
       "    <tr>\n",
       "      <th>...</th>\n",
       "      <td>...</td>\n",
       "      <td>...</td>\n",
       "      <td>...</td>\n",
       "      <td>...</td>\n",
       "      <td>...</td>\n",
       "      <td>...</td>\n",
       "      <td>...</td>\n",
       "    </tr>\n",
       "    <tr>\n",
       "      <th>11076</th>\n",
       "      <td>Q9S850</td>\n",
       "      <td>MPGIRGPSEYSQEPPRHPSLKVNAKEPFNAEPPRSALVSSYVTPVD...</td>\n",
       "      <td>Peroxisome</td>\n",
       "      <td>U</td>\n",
       "      <td>test</td>\n",
       "      <td>9</td>\n",
       "      <td>data/deeploc_af2/AF-Q9S850-F1-model_v4.pdb</td>\n",
       "    </tr>\n",
       "    <tr>\n",
       "      <th>11075</th>\n",
       "      <td>P11930</td>\n",
       "      <td>MSSSSSWRRAATVMLAAGWTHSSPAGFRLLLLQRAQNQRFLPGAHV...</td>\n",
       "      <td>Peroxisome</td>\n",
       "      <td>U</td>\n",
       "      <td>train</td>\n",
       "      <td>9</td>\n",
       "      <td>data/deeploc_af2/AF-P11930-F1-model_v4.pdb</td>\n",
       "    </tr>\n",
       "    <tr>\n",
       "      <th>11074</th>\n",
       "      <td>Q9LRS0</td>\n",
       "      <td>MEITNVTEYDAIAKAKLPKMVYDYYASGAEDQWTLQENRNAFARIL...</td>\n",
       "      <td>Peroxisome</td>\n",
       "      <td>U</td>\n",
       "      <td>train</td>\n",
       "      <td>9</td>\n",
       "      <td>data/deeploc_af2/AF-Q9LRS0-F1-model_v4.pdb</td>\n",
       "    </tr>\n",
       "    <tr>\n",
       "      <th>11073</th>\n",
       "      <td>A2AKK5</td>\n",
       "      <td>MMIKLIATPSNALVDEPVSIRATGLPPSQIVTIKATVKDENDNVFQ...</td>\n",
       "      <td>Peroxisome</td>\n",
       "      <td>U</td>\n",
       "      <td>train</td>\n",
       "      <td>9</td>\n",
       "      <td>data/deeploc_af2/AF-A2AKK5-F1-model_v4.pdb</td>\n",
       "    </tr>\n",
       "    <tr>\n",
       "      <th>11072</th>\n",
       "      <td>Q02969</td>\n",
       "      <td>MSQFGTTDIVSGSETPPYSGASYQDAQDDNTHPHSSDAGAEKFSAG...</td>\n",
       "      <td>Peroxisome</td>\n",
       "      <td>M</td>\n",
       "      <td>train</td>\n",
       "      <td>9</td>\n",
       "      <td>data/deeploc_af2/AF-Q02969-F1-model_v4.pdb</td>\n",
       "    </tr>\n",
       "  </tbody>\n",
       "</table>\n",
       "<p>8321 rows × 7 columns</p>\n",
       "</div>"
      ],
      "text/plain": [
       "      Protein                                           Sequence    Location  \\\n",
       "10700  Q9DA32  MPRTRNIGALCTLPEDTTHSGRPRRGVQRSYISRMAEPAPANMNDP...     Nucleus   \n",
       "10701  O42927  MNPTSFIYDKPPPPPIINKPFEQTNSSASLTQKNSSSETENVGRHG...     Nucleus   \n",
       "10704  Q8TAS1  MAGSGCAWGAEPPRFLEAFGRLWQVQSRLGSGSSASVYRVRCCGNP...     Nucleus   \n",
       "10706  Q96WW3  MAKSARSKSIRRNKKVLRENVFQPVIDERTKRLSAHLRDQVNDLTK...     Nucleus   \n",
       "10708  Q8VYI0  MAATTGLETLVDQIISVITNDGRNIVGVLKGFDQATNIILDESHER...     Nucleus   \n",
       "...       ...                                                ...         ...   \n",
       "11076  Q9S850  MPGIRGPSEYSQEPPRHPSLKVNAKEPFNAEPPRSALVSSYVTPVD...  Peroxisome   \n",
       "11075  P11930  MSSSSSWRRAATVMLAAGWTHSSPAGFRLLLLQRAQNQRFLPGAHV...  Peroxisome   \n",
       "11074  Q9LRS0  MEITNVTEYDAIAKAKLPKMVYDYYASGAEDQWTLQENRNAFARIL...  Peroxisome   \n",
       "11073  A2AKK5  MMIKLIATPSNALVDEPVSIRATGLPPSQIVTIKATVKDENDNVFQ...  Peroxisome   \n",
       "11072  Q02969  MSQFGTTDIVSGSETPPYSGASYQDAQDDNTHPHSSDAGAEKFSAG...  Peroxisome   \n",
       "\n",
       "      Extra Location  Split  Location Label  \\\n",
       "10700              M  train               0   \n",
       "10701              U   test               0   \n",
       "10704              U  train               0   \n",
       "10706              U  train               0   \n",
       "10708              U  train               0   \n",
       "...              ...    ...             ...   \n",
       "11076              U   test               9   \n",
       "11075              U  train               9   \n",
       "11074              U  train               9   \n",
       "11073              U  train               9   \n",
       "11072              M  train               9   \n",
       "\n",
       "                                         PDB Path  \n",
       "10700  data/deeploc_af2/AF-Q9DA32-F1-model_v4.pdb  \n",
       "10701  data/deeploc_af2/AF-O42927-F1-model_v4.pdb  \n",
       "10704  data/deeploc_af2/AF-Q8TAS1-F1-model_v4.pdb  \n",
       "10706  data/deeploc_af2/AF-Q96WW3-F1-model_v4.pdb  \n",
       "10708  data/deeploc_af2/AF-Q8VYI0-F1-model_v4.pdb  \n",
       "...                                           ...  \n",
       "11076  data/deeploc_af2/AF-Q9S850-F1-model_v4.pdb  \n",
       "11075  data/deeploc_af2/AF-P11930-F1-model_v4.pdb  \n",
       "11074  data/deeploc_af2/AF-Q9LRS0-F1-model_v4.pdb  \n",
       "11073  data/deeploc_af2/AF-A2AKK5-F1-model_v4.pdb  \n",
       "11072  data/deeploc_af2/AF-Q02969-F1-model_v4.pdb  \n",
       "\n",
       "[8321 rows x 7 columns]"
      ]
     },
     "execution_count": 6,
     "metadata": {},
     "output_type": "execute_result"
    }
   ],
   "source": [
    "#Add AF2 models to deeploc dataset\n",
    "deeploc_af2_df = get_deep_loc_af2(deeploc_df)\n",
    "deeploc_af2_df"
   ]
  },
  {
   "cell_type": "code",
   "execution_count": 7,
   "metadata": {},
   "outputs": [
    {
     "name": "stdout",
     "output_type": "stream",
     "text": [
      "train    6664\n",
      "test     1657\n",
      "Name: Split, dtype: int64\n"
     ]
    },
    {
     "data": {
      "image/png": "[encoded data removed]",
      "text/plain": [
       "<Figure size 640x480 with 1 Axes>"
      ]
     },
     "metadata": {},
     "output_type": "display_data"
    }
   ],
   "source": [
    "#Plot data with Af2 models\n",
    "sns.histplot(data = deeploc_af2_df, y = 'Location', hue = 'Split', multiple = 'dodge', hue_order = ['train', 'test'])\n",
    "print(deeploc_af2_df['Split'].value_counts())"
   ]
  },
  {
   "cell_type": "code",
   "execution_count": 8,
   "metadata": {},
   "outputs": [
    {
     "name": "stdout",
     "output_type": "stream",
     "text": [
      "0\n",
      "1000\n",
      "2000\n",
      "3000\n",
      "4000\n",
      "5000\n",
      "6000\n",
      "7000\n",
      "8000\n"
     ]
    }
   ],
   "source": [
    "#Voxel params\n",
    "hashing = \"Element_Hashing\"\n",
    "resolution = 1\n",
    "rep = 'voxel'\n",
    "\n",
    "#Generate resized voxels and save to file\n",
    "deeploc_af2_df['Voxel Path'] = ''\n",
    "voxel_dir = 'voxels/deeploc'\n",
    "os.makedirs(voxel_dir, exist_ok = True)\n",
    "for i in range(len(deeploc_af2_df)):\n",
    "    if i % 1000 == 0: print(i)\n",
    "    protein_path = deeploc_af2_df['PDB Path'].iloc[i]\n",
    "    protein = deeploc_af2_df['Protein'].iloc[i]\n",
    "    voxel_path = os.path.join(voxel_dir, f'{protein}.pt')\n",
    "    deeploc_af2_df['Voxel Path'].iloc[i] = voxel_path\n",
    "    \n",
    "    #Generate voxel\n",
    "    if not os.path.isfile(voxel_path):\n",
    "        voxel = rep_protein(protein_path, device, rep = rep, hashing = hashing, resolution = resolution)\n",
    "        resized_voxel = resize_grid(voxel.to_dense(), device, 5, 110, 110, 110)\n",
    "        torch.save(resized_voxel.cpu(), voxel_path)"
   ]
  },
  {
   "cell_type": "code",
   "execution_count": 9,
   "metadata": {},
   "outputs": [
    {
     "name": "stdout",
     "output_type": "stream",
     "text": [
      "train    6664\n",
      "test     1657\n",
      "Name: Split, dtype: int64\n"
     ]
    },
    {
     "data": {
      "image/png": "[encoded data removed]",
      "text/plain": [
       "<Figure size 640x480 with 1 Axes>"
      ]
     },
     "metadata": {},
     "output_type": "display_data"
    }
   ],
   "source": [
    "sns.histplot(data = deeploc_af2_df, y = 'Location', hue = 'Split', multiple = 'dodge', hue_order = ['train', 'test'])\n",
    "print(deeploc_af2_df['Split'].value_counts())"
   ]
  },
  {
   "cell_type": "code",
   "execution_count": 10,
   "metadata": {},
   "outputs": [],
   "source": [
    "#Split dataset and create dataloader\n",
    "pin_memory = True\n",
    "if device == 'cpu':\n",
    "    pin_memory = False\n",
    "num_workers = 0\n",
    "batch_size = 4\n",
    "train_deeploc_af2_df, test_deeploc_af2_df = split_deeploc(deeploc_af2_df)\n",
    "\n",
    "#Voxels:\n",
    "#Create dataset\n",
    "voxel_train_set = VoxelDataset(list(train_deeploc_af2_df['Voxel Path']), list(train_deeploc_af2_df['Location Label']))\n",
    "voxel_test_set = VoxelDataset(list(test_deeploc_af2_df['Voxel Path']), list(test_deeploc_af2_df['Location Label']))\n",
    "\n",
    "#Create loaders\n",
    "voxel_train_loader = torch.utils.data.DataLoader(voxel_train_set, batch_size=batch_size,\n",
    "                                              shuffle=True, num_workers = num_workers, pin_memory=pin_memory)\n",
    "voxel_test_loader = torch.utils.data.DataLoader(voxel_test_set, batch_size=batch_size,\n",
    "                                              shuffle=True, num_workers = num_workers, pin_memory=pin_memory) \n",
    "\n",
    "#Tokens\n",
    "#Create dataset\n",
    "token_train_set = TokenDataset(list(train_deeploc_af2_df['Sequence']), list(train_deeploc_af2_df['Location Label']), tokenizer, max_len)\n",
    "token_test_set = TokenDataset(list(test_deeploc_af2_df['Sequence']), list(test_deeploc_af2_df['Location Label']), tokenizer, max_len)\n",
    "\n",
    "#Create loaders\n",
    "token_train_loader = torch.utils.data.DataLoader(token_train_set, batch_size=batch_size,\n",
    "                                              shuffle=True, num_workers = num_workers, pin_memory=pin_memory)\n",
    "token_test_loader = torch.utils.data.DataLoader(token_test_set, batch_size=batch_size,\n",
    "                                              shuffle=True, num_workers = num_workers, pin_memory=pin_memory) "
   ]
  },
  {
   "cell_type": "code",
   "execution_count": 11,
   "metadata": {},
   "outputs": [],
   "source": [
    "# Cross Entropy Loss \n",
    "loss_fn = nn.CrossEntropyLoss()\n",
    "\n",
    "# SGD Optimizer\n",
    "optimizer = torch.optim.Adam(esm_classifier.parameters(), lr = .000005)"
   ]
  },
  {
   "cell_type": "code",
   "execution_count": 12,
   "metadata": {},
   "outputs": [],
   "source": [
    "# ESM model training\n",
    "model_save_path = f'models/{repo}'\n",
    "epochs = 3\n",
    "\n",
    "esm_classifier = train_model(esm_classifier, \n",
    "            epochs, \n",
    "            model_save_path, \n",
    "            token_train_loader,\n",
    "            token_test_loader,\n",
    "            optimizer,\n",
    "            loss_fn,\n",
    "            device,\n",
    "            esm = True)\n"
   ]
  },
  {
   "cell_type": "code",
   "execution_count": 13,
   "metadata": {
    "tags": []
   },
   "outputs": [],
   "source": [
    "#Predict all   \n",
    "if not os.path.isfile('data/esm_pred/deeploc_af2_df.xlsx'):\n",
    "    deeploc_af2_df['ESM Pred'] = np.nan\n",
    "    esm_classifier.eval()\n",
    "    with torch.no_grad():\n",
    "        for i, index in enumerate(deeploc_af2_df.index):\n",
    "            print(i)\n",
    "\n",
    "            protein = deeploc_af2_df['Protein'][index]\n",
    "\n",
    "            tokens = tokenizer(deeploc_af2_df['Sequence'][index], \n",
    "                      return_tensors=\"pt\", \n",
    "                      max_length = max_len - 1, \n",
    "                      padding = \"max_length\", \n",
    "                      truncation=True).to(device)\n",
    "\n",
    "            outputs = esm_classifier(**tokens,  output_hidden_states=True)\n",
    "            logits = outputs.logits\n",
    "            last_hidden_state = outputs.hidden_states[-1]\n",
    "            features = last_hidden_state[:, 0, :]\n",
    "            _, predictions = torch.max(logits, 1)\n",
    "            predictions = predictions.tolist()[0]\n",
    "\n",
    "            #Add prediction to dataframe\n",
    "            deeploc_af2_df['ESM Pred'][index] = predictions\n",
    "\n",
    "            #Save hidden state to file                \n",
    "            torch.save(features.cpu(), f'esm_encoding/{protein}.pt')\n",
    "\n",
    "            del tokens\n",
    "            del outputs\n",
    "\n",
    "    #Save dataframe\n",
    "    deeploc_af2_df.to_excel('data/esm_pred/deeploc_af2_df.xlsx')\n",
    "else:\n",
    "    deeploc_af2_df = pd.read_excel('data/esm_pred/deeploc_af2_df.xlsx', header = 0, index_col = 0)"
   ]
  },
  {
   "cell_type": "code",
   "execution_count": 14,
   "metadata": {},
   "outputs": [
    {
     "name": "stdout",
     "output_type": "stream",
     "text": [
      "0.9242196878751501 0.7663098680545771\n",
      "0.8032589016294508 0.6158978910460566\n"
     ]
    }
   ],
   "source": [
    "#Get accuracy and f1 score\n",
    "train_deeploc_af2_df, test_deeploc_af2_df = split_deeploc(deeploc_af2_df)\n",
    "train_acc = accuracy_score(train_deeploc_af2_df['Location Label'], train_deeploc_af2_df['ESM Pred'])\n",
    "test_acc = accuracy_score(test_deeploc_af2_df['Location Label'], test_deeploc_af2_df['ESM Pred'])\n",
    "train_f1 = f1_score(train_deeploc_af2_df['Location Label'], train_deeploc_af2_df['ESM Pred'], average = 'macro')\n",
    "test_f1 = f1_score(test_deeploc_af2_df['Location Label'], test_deeploc_af2_df['ESM Pred'], average = 'macro')\n",
    "print(train_acc, train_f1)\n",
    "print(test_acc, test_f1)"
   ]
  }
 ],
 "metadata": {
  "kernelspec": {
   "display_name": "Python 3.6.8 64-bit",
   "language": "python",
   "name": "python3"
  },
  "language_info": {
   "codemirror_mode": {
    "name": "ipython",
    "version": 3
   },
   "file_extension": ".py",
   "mimetype": "text/x-python",
   "name": "python",
   "nbconvert_exporter": "python",
   "pygments_lexer": "ipython3",
   "version": "3.6.8"
  },
  "vscode": {
   "interpreter": {
    "hash": "31f2aee4e71d21fbe5cf8b01ff0e069b9275f58929596ceb00d14d90e3e16cd6"
   }
  }
 },
 "nbformat": 4,
 "nbformat_minor": 4
}
