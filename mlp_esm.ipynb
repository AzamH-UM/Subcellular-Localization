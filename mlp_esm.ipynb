{
 "cells": [
  {
   "cell_type": "code",
   "execution_count": 1,
   "metadata": {},
   "outputs": [],
   "source": [
    "import csv\n",
    "import torch\n",
    "import torch.nn as nn\n",
    "import torch.optim as optim\n",
    "from torch.utils.data import Dataset\n",
    "import numpy as np\n",
    "from sklearn.metrics import confusion_matrix\n",
    "from sklearn.utils.class_weight import compute_class_weight\n",
    "import seaborn as sn\n",
    "import pandas as pd\n",
    "import matplotlib.pyplot as plt\n",
    "\n",
    "from tqdm import tqdm\n",
    "from glob import glob"
   ]
  },
  {
   "cell_type": "code",
   "execution_count": 4,
   "metadata": {},
   "outputs": [
    {
     "data": {
      "text/plain": [
       "2747"
      ]
     },
     "execution_count": 4,
     "metadata": {},
     "output_type": "execute_result"
    }
   ],
   "source": [
    "with open(\"./Data/Data.csv\", \"r\") as f:\n",
    "    reader = csv.reader(f)\n",
    "    data = list(reader)\n",
    "classes = [int(i[1]) for i in data if i[2] == \"test\"]\n",
    "\n",
    "CLASS_WEIGHTS = compute_class_weight(\"balanced\", classes=np.unique(classes), y=classes)\n",
    "CLASS_WEIGHTS = torch.tensor(CLASS_WEIGHTS, dtype=torch.float)\n",
    "len(classes)"
   ]
  },
  {
   "cell_type": "code",
   "execution_count": 5,
   "metadata": {},
   "outputs": [],
   "source": [
    "PROTEIN_LETTERS = {'A':0, 'B':1, 'C':2, 'D':3, 'E':4, 'F':5, 'G':6, 'H':7, 'I':8, 'J':9, 'K':10, 'L':11, 'M':12, 'N':13, 'P':14, 'Q':15, 'R':16, 'S':17, 'T':18, 'U':19, 'V':20, 'W':21, 'Y':22, 'X':23, 'Z':24}\n",
    "\n",
    "class protein_sequence_ds(Dataset):\n",
    "    def __init__(self, csv_path, split):\n",
    "        self.csv_path = csv_path\n",
    "        with open(self.csv_path) as f:\n",
    "            reader = csv.reader(f)\n",
    "            data = list(reader)\n",
    "        self.split = split\n",
    "        if split == 'train':\n",
    "            self.data = [i for i in data if i[2]==\"train\"]\n",
    "        elif split == 'test':\n",
    "            self.data = [i for i in data if i[2]==\"test\"]\n",
    "        self.feats = np.load(\"Data/esm_feats.npy\", allow_pickle=True).item()\n",
    "        \n",
    "    def __getitem__(self, index):\n",
    "        feats = self.feats[self.data[index][0]]\n",
    "        label = self.data[index][1]\n",
    "        return torch.from_numpy(feats[0]), int(label)\n",
    "    \n",
    "    def __len__(self):\n",
    "        return len(self.data)\n",
    "        "
   ]
  },
  {
   "cell_type": "code",
   "execution_count": 6,
   "metadata": {},
   "outputs": [],
   "source": [
    "class seq_model(nn.Module):\n",
    "    def __init__(self, input_size, num_classes):\n",
    "        super(seq_model, self).__init__()\n",
    "        self.model = nn.Sequential(nn.Linear(input_size, 2048),\n",
    "                      nn.ReLU(),\n",
    "\n",
    "                      nn.Linear(2048, 1024),\n",
    "                      nn.BatchNorm1d(1024),\n",
    "                      nn.ReLU(),\n",
    "\n",
    "                      nn.Linear(1024, 512),\n",
    "                      nn.BatchNorm1d(512),\n",
    "                      nn.ReLU(),\n",
    "\n",
    "                      nn.Linear(512, 256),\n",
    "                      nn.BatchNorm1d(256),\n",
    "                      nn.ReLU(),\n",
    "\n",
    "                      nn.Linear(256, 128),\n",
    "                      nn.BatchNorm1d(128),\n",
    "                      nn.ReLU(),\n",
    "\n",
    "                      nn.Linear(128, num_classes),\n",
    "                      nn.Softmax())\n",
    "    \n",
    "    def forward(self, x):\n",
    "        return self.model(x)\n"
   ]
  },
  {
   "cell_type": "code",
   "execution_count": 7,
   "metadata": {},
   "outputs": [],
   "source": [
    "model = seq_model(1280, 10)"
   ]
  },
  {
   "cell_type": "code",
   "execution_count": 8,
   "metadata": {},
   "outputs": [],
   "source": [
    "batch_size = 256\n",
    "train_ds = protein_sequence_ds('./Data/Data.csv', 'train')\n",
    "train_loader = torch.utils.data.DataLoader(train_ds, batch_size=batch_size, shuffle=True)"
   ]
  },
  {
   "cell_type": "code",
   "execution_count": 9,
   "metadata": {},
   "outputs": [],
   "source": [
    "# criterion = nn.CrossEntropyLoss(weight=CLASS_WEIGHTS)\n",
    "criterion = nn.CrossEntropyLoss()\n",
    "optimizer = optim.Adam(model.parameters(), lr=0.000004)"
   ]
  },
  {
   "cell_type": "code",
   "execution_count": 13,
   "metadata": {},
   "outputs": [],
   "source": [
    "test_ds = protein_sequence_ds('./Data/Data.csv', 'test')\n",
    "test_loader = torch.utils.data.DataLoader(test_ds, batch_size=120, shuffle=False)\n",
    "top_acc = 0\n",
    "def eval(cf=False):\n",
    "    model.eval()\n",
    "    y_pred = []\n",
    "    y_true = []\n",
    "\n",
    "    # iterate over test data\n",
    "    for inputs, labels in test_loader:\n",
    "        with torch.no_grad():\n",
    "            output = model(inputs.cuda()) # Feed Network\n",
    "\n",
    "            output = (torch.max(torch.exp(output), 1)[1]).data.cpu().numpy()\n",
    "            y_pred.extend(output) # Save Prediction\n",
    "            \n",
    "            labels = labels.data.cpu().numpy()\n",
    "            y_true.extend(labels) # Save Truth\n",
    "\n",
    "    # constant for classes\n",
    "    classes = (1,2,3,4,5,6,7,8,9,10)\n",
    "    if(not confusion_matrix):\n",
    "        return 100*sum(np.array(y_true) == np.array(y_pred))/len(y_true)\n",
    "    #Build confusion matrix\n",
    "    else:\n",
    "        cf_matrix = confusion_matrix(y_true, y_pred)\n",
    "        return 100*sum(np.array(y_true) == np.array(y_pred))/len(y_true), cf_matrix\n"
   ]
  },
  {
   "cell_type": "code",
   "execution_count": 11,
   "metadata": {},
   "outputs": [
    {
     "name": "stderr",
     "output_type": "stream",
     "text": [
      "Epoch 0:   0%|          | 0/43 [00:00<?, ?batch/s]C:\\Users\\Dinesh Sathia Raj\\AppData\\Roaming\\Python\\Python39\\site-packages\\torch\\nn\\modules\\container.py:204: UserWarning: Implicit dimension choice for softmax has been deprecated. Change the call to include dim=X as an argument.\n",
      "  input = module(input)\n",
      "Epoch 0: 100%|██████████| 43/43 [00:03<00:00, 12.29batch/s, accuracy=0.212, loss=0.00885]\n"
     ]
    },
    {
     "name": "stdout",
     "output_type": "stream",
     "text": [
      "Accuracy improved from 0 to 19.038951583545686\n"
     ]
    },
    {
     "name": "stderr",
     "output_type": "stream",
     "text": [
      "Epoch 1: 100%|██████████| 43/43 [00:00<00:00, 82.10batch/s, accuracy=0.346, loss=0.00862]\n"
     ]
    },
    {
     "name": "stdout",
     "output_type": "stream",
     "text": [
      "Accuracy improved from 19.038951583545686 to 40.04368401892974\n"
     ]
    },
    {
     "name": "stderr",
     "output_type": "stream",
     "text": [
      "Epoch 2: 100%|██████████| 43/43 [00:00<00:00, 88.59batch/s, accuracy=0.464, loss=0.00844]\n"
     ]
    },
    {
     "name": "stdout",
     "output_type": "stream",
     "text": [
      "Accuracy improved from 40.04368401892974 to 49.14452129595923\n"
     ]
    },
    {
     "name": "stderr",
     "output_type": "stream",
     "text": [
      "Epoch 3: 100%|██████████| 43/43 [00:00<00:00, 93.50batch/s, accuracy=0.536, loss=0.00829]\n"
     ]
    },
    {
     "name": "stdout",
     "output_type": "stream",
     "text": [
      "Accuracy improved from 49.14452129595923 to 55.07826720058245\n"
     ]
    },
    {
     "name": "stderr",
     "output_type": "stream",
     "text": [
      "Epoch 4: 100%|██████████| 43/43 [00:00<00:00, 82.41batch/s, accuracy=0.578, loss=0.00816]\n"
     ]
    },
    {
     "name": "stdout",
     "output_type": "stream",
     "text": [
      "Accuracy improved from 55.07826720058245 to 58.09974517655624\n"
     ]
    },
    {
     "name": "stderr",
     "output_type": "stream",
     "text": [
      "Epoch 5: 100%|██████████| 43/43 [00:00<00:00, 75.58batch/s, accuracy=0.611, loss=0.00805]\n"
     ]
    },
    {
     "name": "stdout",
     "output_type": "stream",
     "text": [
      "Accuracy improved from 58.09974517655624 to 61.99490353112486\n"
     ]
    },
    {
     "name": "stderr",
     "output_type": "stream",
     "text": [
      "Epoch 6: 100%|██████████| 43/43 [00:00<00:00, 90.91batch/s, accuracy=0.631, loss=0.00796]\n"
     ]
    },
    {
     "name": "stdout",
     "output_type": "stream",
     "text": [
      "Accuracy improved from 61.99490353112486 to 64.25191117582817\n"
     ]
    },
    {
     "name": "stderr",
     "output_type": "stream",
     "text": [
      "Epoch 7: 100%|██████████| 43/43 [00:00<00:00, 88.33batch/s, accuracy=0.646, loss=0.00788]\n"
     ]
    },
    {
     "name": "stdout",
     "output_type": "stream",
     "text": [
      "Accuracy improved from 64.25191117582817 to 65.63523844193666\n"
     ]
    },
    {
     "name": "stderr",
     "output_type": "stream",
     "text": [
      "Epoch 8: 100%|██████████| 43/43 [00:00<00:00, 94.39batch/s, accuracy=0.658, loss=0.00781]\n"
     ]
    },
    {
     "name": "stdout",
     "output_type": "stream",
     "text": [
      "Accuracy improved from 65.63523844193666 to 66.5453221696396\n"
     ]
    },
    {
     "name": "stderr",
     "output_type": "stream",
     "text": [
      "Epoch 9: 100%|██████████| 43/43 [00:00<00:00, 91.69batch/s, accuracy=0.67, loss=0.00775] \n"
     ]
    },
    {
     "name": "stdout",
     "output_type": "stream",
     "text": [
      "Accuracy improved from 66.5453221696396 to 67.60101929377502\n"
     ]
    },
    {
     "name": "stderr",
     "output_type": "stream",
     "text": [
      "Epoch 10: 100%|██████████| 43/43 [00:00<00:00, 92.20batch/s, accuracy=0.681, loss=0.0077] \n"
     ]
    },
    {
     "name": "stdout",
     "output_type": "stream",
     "text": [
      "Accuracy improved from 67.60101929377502 to 68.72952311612669\n"
     ]
    },
    {
     "name": "stderr",
     "output_type": "stream",
     "text": [
      "Epoch 11: 100%|██████████| 43/43 [00:00<00:00, 90.99batch/s, accuracy=0.688, loss=0.00765]\n"
     ]
    },
    {
     "name": "stdout",
     "output_type": "stream",
     "text": [
      "Accuracy improved from 68.72952311612669 to 69.5668001456134\n"
     ]
    },
    {
     "name": "stderr",
     "output_type": "stream",
     "text": [
      "Epoch 12: 100%|██████████| 43/43 [00:00<00:00, 90.81batch/s, accuracy=0.698, loss=0.0076] \n"
     ]
    },
    {
     "name": "stdout",
     "output_type": "stream",
     "text": [
      "Accuracy improved from 69.5668001456134 to 70.25846377866763\n"
     ]
    },
    {
     "name": "stderr",
     "output_type": "stream",
     "text": [
      "Epoch 13: 100%|██████████| 43/43 [00:00<00:00, 87.49batch/s, accuracy=0.706, loss=0.00756]\n"
     ]
    },
    {
     "name": "stdout",
     "output_type": "stream",
     "text": [
      "Accuracy improved from 70.25846377866763 to 70.76811066618129\n"
     ]
    },
    {
     "name": "stderr",
     "output_type": "stream",
     "text": [
      "Epoch 14: 100%|██████████| 43/43 [00:00<00:00, 91.18batch/s, accuracy=0.718, loss=0.00751]\n"
     ]
    },
    {
     "name": "stdout",
     "output_type": "stream",
     "text": [
      "Accuracy improved from 70.76811066618129 to 71.4233709501274\n"
     ]
    },
    {
     "name": "stderr",
     "output_type": "stream",
     "text": [
      "Epoch 15: 100%|██████████| 43/43 [00:00<00:00, 82.92batch/s, accuracy=0.728, loss=0.00747]\n"
     ]
    },
    {
     "name": "stdout",
     "output_type": "stream",
     "text": [
      "Accuracy improved from 71.4233709501274 to 72.29705132872225\n"
     ]
    },
    {
     "name": "stderr",
     "output_type": "stream",
     "text": [
      "Epoch 16: 100%|██████████| 43/43 [00:00<00:00, 89.70batch/s, accuracy=0.736, loss=0.00744]\n"
     ]
    },
    {
     "name": "stdout",
     "output_type": "stream",
     "text": [
      "Accuracy improved from 72.29705132872225 to 73.06152165999272\n"
     ]
    },
    {
     "name": "stderr",
     "output_type": "stream",
     "text": [
      "Epoch 17: 100%|██████████| 43/43 [00:00<00:00, 87.01batch/s, accuracy=0.746, loss=0.0074] \n"
     ]
    },
    {
     "name": "stdout",
     "output_type": "stream",
     "text": [
      "Accuracy improved from 73.06152165999272 to 74.0444120859119\n"
     ]
    },
    {
     "name": "stderr",
     "output_type": "stream",
     "text": [
      "Epoch 18: 100%|██████████| 43/43 [00:00<00:00, 87.55batch/s, accuracy=0.752, loss=0.00737]\n"
     ]
    },
    {
     "name": "stdout",
     "output_type": "stream",
     "text": [
      "Accuracy improved from 74.0444120859119 to 74.69967236985802\n"
     ]
    },
    {
     "name": "stderr",
     "output_type": "stream",
     "text": [
      "Epoch 19: 100%|██████████| 43/43 [00:00<00:00, 92.08batch/s, accuracy=0.761, loss=0.00733]\n"
     ]
    },
    {
     "name": "stdout",
     "output_type": "stream",
     "text": [
      "Accuracy improved from 74.69967236985802 to 74.77247906807426\n"
     ]
    },
    {
     "name": "stderr",
     "output_type": "stream",
     "text": [
      "Epoch 20: 100%|██████████| 43/43 [00:00<00:00, 92.06batch/s, accuracy=0.766, loss=0.0073] \n"
     ]
    },
    {
     "name": "stdout",
     "output_type": "stream",
     "text": [
      "Accuracy improved from 74.77247906807426 to 75.31852930469603\n"
     ]
    },
    {
     "name": "stderr",
     "output_type": "stream",
     "text": [
      "Epoch 21: 100%|██████████| 43/43 [00:00<00:00, 100.32batch/s, accuracy=0.773, loss=0.00727]\n"
     ]
    },
    {
     "name": "stdout",
     "output_type": "stream",
     "text": [
      "Accuracy improved from 75.31852930469603 to 75.8645795413178\n"
     ]
    },
    {
     "name": "stderr",
     "output_type": "stream",
     "text": [
      "Epoch 22: 100%|██████████| 43/43 [00:00<00:00, 90.65batch/s, accuracy=0.778, loss=0.00724]\n"
     ]
    },
    {
     "name": "stdout",
     "output_type": "stream",
     "text": [
      "Accuracy improved from 75.8645795413178 to 76.4834364761558\n"
     ]
    },
    {
     "name": "stderr",
     "output_type": "stream",
     "text": [
      "Epoch 23: 100%|██████████| 43/43 [00:00<00:00, 91.35batch/s, accuracy=0.784, loss=0.00721]\n"
     ]
    },
    {
     "name": "stdout",
     "output_type": "stream",
     "text": [
      "Accuracy improved from 76.4834364761558 to 76.92027666545322\n"
     ]
    },
    {
     "name": "stderr",
     "output_type": "stream",
     "text": [
      "Epoch 24: 100%|██████████| 43/43 [00:00<00:00, 82.42batch/s, accuracy=0.787, loss=0.00718]\n"
     ]
    },
    {
     "name": "stdout",
     "output_type": "stream",
     "text": [
      "Accuracy improved from 76.92027666545322 to 77.53913360029122\n"
     ]
    },
    {
     "name": "stderr",
     "output_type": "stream",
     "text": [
      "Epoch 25: 100%|██████████| 43/43 [00:00<00:00, 86.67batch/s, accuracy=0.793, loss=0.00715]\n"
     ]
    },
    {
     "name": "stdout",
     "output_type": "stream",
     "text": [
      "Accuracy improved from 77.53913360029122 to 77.79395704404806\n"
     ]
    },
    {
     "name": "stderr",
     "output_type": "stream",
     "text": [
      "Epoch 26: 100%|██████████| 43/43 [00:00<00:00, 88.70batch/s, accuracy=0.8, loss=0.00713]  \n"
     ]
    },
    {
     "name": "stdout",
     "output_type": "stream",
     "text": [
      "Accuracy improved from 77.79395704404806 to 78.23079723334547\n"
     ]
    },
    {
     "name": "stderr",
     "output_type": "stream",
     "text": [
      "Epoch 27: 100%|██████████| 43/43 [00:00<00:00, 91.44batch/s, accuracy=0.805, loss=0.00711]\n"
     ]
    },
    {
     "name": "stdout",
     "output_type": "stream",
     "text": [
      "Accuracy improved from 78.23079723334547 to 78.37641062977794\n"
     ]
    },
    {
     "name": "stderr",
     "output_type": "stream",
     "text": [
      "Epoch 28: 100%|██████████| 43/43 [00:00<00:00, 92.91batch/s, accuracy=0.806, loss=0.00708]\n"
     ]
    },
    {
     "name": "stdout",
     "output_type": "stream",
     "text": [
      "Accuracy improved from 78.37641062977794 to 78.48562067710229\n"
     ]
    },
    {
     "name": "stderr",
     "output_type": "stream",
     "text": [
      "Epoch 29: 100%|██████████| 43/43 [00:00<00:00, 84.95batch/s, accuracy=0.812, loss=0.00706]\n"
     ]
    },
    {
     "name": "stdout",
     "output_type": "stream",
     "text": [
      "Accuracy improved from 78.48562067710229 to 78.81325081907535\n"
     ]
    },
    {
     "name": "stderr",
     "output_type": "stream",
     "text": [
      "Epoch 30: 100%|██████████| 43/43 [00:00<00:00, 94.20batch/s, accuracy=0.815, loss=0.00703]\n"
     ]
    },
    {
     "name": "stdout",
     "output_type": "stream",
     "text": [
      "Accuracy improved from 78.81325081907535 to 79.03167091372406\n"
     ]
    },
    {
     "name": "stderr",
     "output_type": "stream",
     "text": [
      "Epoch 31: 100%|██████████| 43/43 [00:00<00:00, 92.86batch/s, accuracy=0.82, loss=0.00701] \n"
     ]
    },
    {
     "name": "stdout",
     "output_type": "stream",
     "text": [
      "Accuracy improved from 79.03167091372406 to 79.1044776119403\n"
     ]
    },
    {
     "name": "stderr",
     "output_type": "stream",
     "text": [
      "Epoch 32: 100%|██████████| 43/43 [00:00<00:00, 96.89batch/s, accuracy=0.823, loss=0.00699]\n"
     ]
    },
    {
     "name": "stdout",
     "output_type": "stream",
     "text": [
      "Accuracy improved from 79.1044776119403 to 79.21368765926465\n"
     ]
    },
    {
     "name": "stderr",
     "output_type": "stream",
     "text": [
      "Epoch 33: 100%|██████████| 43/43 [00:00<00:00, 90.77batch/s, accuracy=0.826, loss=0.00697]\n"
     ]
    },
    {
     "name": "stdout",
     "output_type": "stream",
     "text": [
      "Accuracy improved from 79.21368765926465 to 79.39570440480524\n"
     ]
    },
    {
     "name": "stderr",
     "output_type": "stream",
     "text": [
      "Epoch 34: 100%|██████████| 43/43 [00:00<00:00, 92.64batch/s, accuracy=0.831, loss=0.00695]\n"
     ]
    },
    {
     "name": "stdout",
     "output_type": "stream",
     "text": [
      "Accuracy improved from 79.39570440480524 to 79.57772115034584\n"
     ]
    },
    {
     "name": "stderr",
     "output_type": "stream",
     "text": [
      "Epoch 35: 100%|██████████| 43/43 [00:00<00:00, 86.47batch/s, accuracy=0.833, loss=0.00693]\n",
      "Epoch 36: 100%|██████████| 43/43 [00:00<00:00, 97.19batch/s, accuracy=0.836, loss=0.00691]\n"
     ]
    },
    {
     "name": "stdout",
     "output_type": "stream",
     "text": [
      "Accuracy improved from 79.57772115034584 to 79.65052784856206\n"
     ]
    },
    {
     "name": "stderr",
     "output_type": "stream",
     "text": [
      "Epoch 37: 100%|██████████| 43/43 [00:00<00:00, 96.32batch/s, accuracy=0.837, loss=0.00689]\n",
      "Epoch 38: 100%|██████████| 43/43 [00:00<00:00, 93.93batch/s, accuracy=0.843, loss=0.00687]\n",
      "Epoch 39: 100%|██████████| 43/43 [00:00<00:00, 89.19batch/s, accuracy=0.844, loss=0.00685]\n"
     ]
    },
    {
     "name": "stdout",
     "output_type": "stream",
     "text": [
      "Accuracy improved from 79.65052784856206 to 79.83254459410266\n"
     ]
    },
    {
     "name": "stderr",
     "output_type": "stream",
     "text": [
      "Epoch 40: 100%|██████████| 43/43 [00:00<00:00, 97.76batch/s, accuracy=0.847, loss=0.00683]\n"
     ]
    },
    {
     "name": "stdout",
     "output_type": "stream",
     "text": [
      "Accuracy improved from 79.83254459410266 to 80.05096468875136\n"
     ]
    },
    {
     "name": "stderr",
     "output_type": "stream",
     "text": [
      "Epoch 41: 100%|██████████| 43/43 [00:00<00:00, 93.85batch/s, accuracy=0.849, loss=0.00681]\n"
     ]
    },
    {
     "name": "stdout",
     "output_type": "stream",
     "text": [
      "Accuracy improved from 80.05096468875136 to 80.1237713869676\n"
     ]
    },
    {
     "name": "stderr",
     "output_type": "stream",
     "text": [
      "Epoch 42: 100%|██████████| 43/43 [00:00<00:00, 93.35batch/s, accuracy=0.851, loss=0.0068] \n"
     ]
    },
    {
     "name": "stdout",
     "output_type": "stream",
     "text": [
      "Accuracy improved from 80.1237713869676 to 80.19657808518383\n"
     ]
    },
    {
     "name": "stderr",
     "output_type": "stream",
     "text": [
      "Epoch 43: 100%|██████████| 43/43 [00:00<00:00, 88.34batch/s, accuracy=0.855, loss=0.00678]\n"
     ]
    },
    {
     "name": "stdout",
     "output_type": "stream",
     "text": [
      "Accuracy improved from 80.19657808518383 to 80.23298143429196\n"
     ]
    },
    {
     "name": "stderr",
     "output_type": "stream",
     "text": [
      "Epoch 44: 100%|██████████| 43/43 [00:00<00:00, 88.95batch/s, accuracy=0.857, loss=0.00676]\n",
      "Epoch 45: 100%|██████████| 43/43 [00:00<00:00, 85.96batch/s, accuracy=0.858, loss=0.00674]\n",
      "Epoch 46: 100%|██████████| 43/43 [00:00<00:00, 84.20batch/s, accuracy=0.861, loss=0.00673]\n",
      "Epoch 47: 100%|██████████| 43/43 [00:00<00:00, 94.10batch/s, accuracy=0.864, loss=0.00671]\n",
      "Epoch 48: 100%|██████████| 43/43 [00:00<00:00, 86.52batch/s, accuracy=0.865, loss=0.0067] \n"
     ]
    },
    {
     "name": "stdout",
     "output_type": "stream",
     "text": [
      "Accuracy improved from 80.23298143429196 to 80.30578813250818\n"
     ]
    },
    {
     "name": "stderr",
     "output_type": "stream",
     "text": [
      "Epoch 49: 100%|██████████| 43/43 [00:00<00:00, 90.05batch/s, accuracy=0.866, loss=0.00669]\n"
     ]
    }
   ],
   "source": [
    "model.cuda()\n",
    "criterion.cuda()\n",
    "\n",
    "device = torch.device(\"cuda:0\")\n",
    "for epoch in range(50):\n",
    "    model.train()\n",
    "    running_loss = 0.0\n",
    "    curr_corr = 0.0\n",
    "    ctr = 0\n",
    "    with tqdm(train_loader, unit=\"batch\") as tepoch:\n",
    "        for data, target in tepoch:\n",
    "            ctr += 1\n",
    "            model.train()\n",
    "            tepoch.set_description(f\"Epoch {epoch}\")\n",
    "\n",
    "            data, target = data.to(device), target.to(device)\n",
    "            optimizer.zero_grad()\n",
    "            output = model(data)\n",
    "            predictions = output.argmax(dim=1, keepdim=True).squeeze()\n",
    "            loss = criterion(output, target)\n",
    "            correct = (predictions == target).sum().item()\n",
    "            accuracy = correct / batch_size\n",
    "            curr_corr += correct\n",
    "            running_loss += loss.item()\n",
    "            loss.backward()\n",
    "            optimizer.step()\n",
    "            tepoch.set_postfix(loss=running_loss/(batch_size*ctr), accuracy=curr_corr/(batch_size*ctr))\n",
    "    acc = eval()\n",
    "    if acc > top_acc:\n",
    "        print(\"Accuracy improved from {} to {}\".format(top_acc, acc))\n",
    "        top_acc = acc\n",
    "        torch.save(model, \"esm_model.pt\")    "
   ]
  },
  {
   "cell_type": "code",
   "execution_count": 14,
   "metadata": {},
   "outputs": [
    {
     "name": "stderr",
     "output_type": "stream",
     "text": [
      "C:\\Users\\Dinesh Sathia Raj\\AppData\\Roaming\\Python\\Python39\\site-packages\\torch\\nn\\modules\\container.py:204: UserWarning: Implicit dimension choice for softmax has been deprecated. Change the call to include dim=X as an argument.\n",
      "  input = module(input)\n"
     ]
    },
    {
     "data": {
      "text/plain": [
       "<AxesSubplot:>"
      ]
     },
     "execution_count": 14,
     "metadata": {},
     "output_type": "execute_result"
    },
    {
     "data": {
      "image/png": "[encoded data removed]",
      "text/plain": [
       "<Figure size 1368x504 with 2 Axes>"
      ]
     },
     "metadata": {
      "needs_background": "light"
     },
     "output_type": "display_data"
    }
   ],
   "source": [
    "model=torch.load(\"esm_model.pt\")\n",
    "acc, cf = eval(cf=True)\n",
    "plt.figure(figsize = (19, 7))\n",
    "sn.heatmap(cf, annot=True)"
   ]
  }
 ],
 "metadata": {
  "kernelspec": {
   "display_name": "Python 3.9.10 64-bit",
   "language": "python",
   "name": "python3"
  },
  "language_info": {
   "codemirror_mode": {
    "name": "ipython",
    "version": 3
   },
   "file_extension": ".py",
   "mimetype": "text/x-python",
   "name": "python",
   "nbconvert_exporter": "python",
   "pygments_lexer": "ipython3",
   "version": "3.9.10"
  },
  "orig_nbformat": 4,
  "vscode": {
   "interpreter": {
    "hash": "11938c6bc6919ae2720b4d5011047913343b08a43b18698fd82dedb0d4417594"
   }
  }
 },
 "nbformat": 4,
 "nbformat_minor": 2
}
