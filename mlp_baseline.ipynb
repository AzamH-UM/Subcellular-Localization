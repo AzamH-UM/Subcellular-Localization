{
 "cells": [
  {
   "cell_type": "code",
   "execution_count": 1,
   "metadata": {},
   "outputs": [],
   "source": [
    "import csv\n",
    "import torch\n",
    "import torch.nn as nn\n",
    "import torch.optim as optim\n",
    "from torch.utils.data import Dataset\n",
    "from tqdm import tqdm\n",
    "import numpy as np\n",
    "from sklearn.metrics import confusion_matrix\n",
    "from sklearn.utils.class_weight import compute_class_weight\n",
    "import seaborn as sn\n",
    "import pandas as pd\n",
    "import matplotlib.pyplot as plt\n",
    "\n",
    "from glob import glob"
   ]
  },
  {
   "cell_type": "code",
   "execution_count": 3,
   "metadata": {},
   "outputs": [
    {
     "data": {
      "text/plain": [
       "2747"
      ]
     },
     "execution_count": 3,
     "metadata": {},
     "output_type": "execute_result"
    }
   ],
   "source": [
    "with open(\"./Data/DataSplit2.csv\", \"r\") as f:\n",
    "    reader = csv.reader(f)\n",
    "    data = list(reader)\n",
    "classes = [int(i[1]) for i in data if i[2] == \"test\"]\n",
    "\n",
    "CLASS_WEIGHTS = compute_class_weight(\"balanced\", classes=np.unique(classes), y=classes)\n",
    "CLASS_WEIGHTS = torch.tensor(CLASS_WEIGHTS, dtype=torch.float)\n",
    "len(classes)"
   ]
  },
  {
   "cell_type": "code",
   "execution_count": 4,
   "metadata": {},
   "outputs": [],
   "source": [
    "PROTEIN_LETTERS = {'A':0, 'B':1, 'C':2, 'D':3, 'E':4, 'F':5, 'G':6, 'H':7, 'I':8, 'J':9, 'K':10, 'L':11, 'M':12, 'N':13, 'P':14, 'Q':15, 'R':16, 'S':17, 'T':18, 'U':19, 'V':20, 'W':21, 'Y':22, 'X':23, 'Z':24}\n",
    "\n",
    "class protein_sequence_ds(Dataset):\n",
    "    def __init__(self, csv_path, split):\n",
    "        self.csv_path = csv_path\n",
    "        with open(self.csv_path) as f:\n",
    "            reader = csv.reader(f)\n",
    "            data = list(reader)\n",
    "        self.split = split\n",
    "        if split == 'train':\n",
    "            self.data = [i for i in data if i[2]==\"train\"]\n",
    "        elif split == 'test':\n",
    "            self.data = [i for i in data if i[2]==\"test\"]\n",
    "\n",
    "    def __getitem__(self, index):\n",
    "        seq = self.data[index][4]\n",
    "        seq = seq_to_tensor(seq)\n",
    "        label = self.data[index][1]\n",
    "        return torch.from_numpy(seq), int(label)\n",
    "    \n",
    "    def __len__(self):\n",
    "        return len(self.data)\n",
    "    \n",
    "def seq_to_tensor(seq):\n",
    "    sq_len = len(seq)\n",
    "    seq_ten = np.zeros(len(PROTEIN_LETTERS), dtype=np.float32)\n",
    "    uniques = np.unique(list(seq), return_counts=True)\n",
    "\n",
    "    for i in range(len(uniques[0])):\n",
    "        seq_ten[PROTEIN_LETTERS[uniques[0][i]]] = uniques[1][i]/sq_len\n",
    "    return seq_ten\n",
    "        "
   ]
  },
  {
   "cell_type": "code",
   "execution_count": 5,
   "metadata": {},
   "outputs": [],
   "source": [
    "class seq_model(nn.Module):\n",
    "    def __init__(self, input_size, num_classes):\n",
    "        super(seq_model, self).__init__()\n",
    "        self.model = nn.Sequential(nn.Linear(input_size, 2048),\n",
    "                      nn.ReLU(),\n",
    "\n",
    "                      nn.Linear(2048, 1024),\n",
    "                      nn.BatchNorm1d(1024),\n",
    "                      nn.ReLU(),\n",
    "\n",
    "                      nn.Linear(1024, 512),\n",
    "                      nn.BatchNorm1d(512),\n",
    "                      nn.ReLU(),\n",
    "\n",
    "                      nn.Linear(512, 256),\n",
    "                      nn.BatchNorm1d(256),\n",
    "                      nn.ReLU(),\n",
    "\n",
    "                      nn.Linear(256, 128),\n",
    "                      nn.BatchNorm1d(128),\n",
    "                      nn.ReLU(),\n",
    "\n",
    "                      nn.Linear(128, num_classes),\n",
    "                      nn.Softmax())\n",
    "    \n",
    "    def forward(self, x):\n",
    "        return self.model(x)\n"
   ]
  },
  {
   "cell_type": "code",
   "execution_count": 6,
   "metadata": {},
   "outputs": [],
   "source": [
    "batch_size = 256\n",
    "model = seq_model(len(PROTEIN_LETTERS), 10)\n",
    "train_ds = protein_sequence_ds('./Data/DataSplit2.csv', 'train')\n",
    "train_loader = torch.utils.data.DataLoader(train_ds, batch_size=batch_size, shuffle=True)"
   ]
  },
  {
   "cell_type": "code",
   "execution_count": 7,
   "metadata": {},
   "outputs": [],
   "source": [
    "# criterion = nn.CrossEntropyLoss(weight=CLASS_WEIGHTS)\n",
    "criterion = nn.CrossEntropyLoss()\n",
    "optimizer = optim.Adam(model.parameters(), lr=0.000005)"
   ]
  },
  {
   "cell_type": "code",
   "execution_count": 11,
   "metadata": {},
   "outputs": [],
   "source": [
    "test_ds = protein_sequence_ds('./Data/DataSplit2.csv', 'test')\n",
    "test_loader = torch.utils.data.DataLoader(test_ds, batch_size=120, shuffle=False)\n",
    "model = torch.load('baseline_model.pt')\n",
    "def eval(cf = False):\n",
    "    model.eval()\n",
    "    y_pred = []\n",
    "    y_true = []\n",
    "\n",
    "    # iterate over test data\n",
    "    for inputs, labels in test_loader:\n",
    "        with torch.no_grad():\n",
    "            output = model(inputs.cuda()) # Feed Network\n",
    "\n",
    "            output = (torch.max(torch.exp(output), 1)[1]).data.cpu().numpy()\n",
    "            y_pred.extend(output) # Save Prediction\n",
    "            \n",
    "            labels = labels.data.cpu().numpy()\n",
    "            y_true.extend(labels) # Save Truth\n",
    "\n",
    "    # constant for classes\n",
    "    classes = (1,2,3,4,5,6,7,8,9,10)\n",
    "    if cf:\n",
    "        # Build confusion matrix\n",
    "        cf_matrix = confusion_matrix(y_true, y_pred, labels=classes)\n",
    "        return 100*sum(np.array(y_true) == np.array(y_pred))/len(y_true), cf_matrix\n",
    "    else:\n",
    "        return 100*sum(np.array(y_true) == np.array(y_pred))/len(y_true)\n",
    "\n"
   ]
  },
  {
   "cell_type": "code",
   "execution_count": 21,
   "metadata": {},
   "outputs": [
    {
     "name": "stderr",
     "output_type": "stream",
     "text": [
      "Epoch 0: 100%|██████████| 43/43 [00:01<00:00, 22.69batch/s, accuracy=0.703, loss=0.00686]\n",
      "Epoch 1: 100%|██████████| 43/43 [00:01<00:00, 22.97batch/s, accuracy=0.7, loss=0.00687]  \n",
      "Epoch 2: 100%|██████████| 43/43 [00:01<00:00, 22.41batch/s, accuracy=0.702, loss=0.00686]\n",
      "Epoch 3: 100%|██████████| 43/43 [00:01<00:00, 22.04batch/s, accuracy=0.701, loss=0.00687]\n",
      "Epoch 4: 100%|██████████| 43/43 [00:01<00:00, 21.61batch/s, accuracy=0.702, loss=0.00686]\n",
      "Epoch 5: 100%|██████████| 43/43 [00:01<00:00, 22.25batch/s, accuracy=0.702, loss=0.00687]\n",
      "Epoch 6: 100%|██████████| 43/43 [00:01<00:00, 23.28batch/s, accuracy=0.703, loss=0.00686]\n"
     ]
    },
    {
     "name": "stdout",
     "output_type": "stream",
     "text": [
      "Saving model with accuracy:  51.14670549690572\n"
     ]
    },
    {
     "name": "stderr",
     "output_type": "stream",
     "text": [
      "Epoch 7: 100%|██████████| 43/43 [00:01<00:00, 22.27batch/s, accuracy=0.701, loss=0.00687]\n",
      "Epoch 8: 100%|██████████| 43/43 [00:02<00:00, 21.08batch/s, accuracy=0.703, loss=0.00686]\n",
      "Epoch 9: 100%|██████████| 43/43 [00:01<00:00, 22.09batch/s, accuracy=0.698, loss=0.00688]\n",
      "Epoch 10: 100%|██████████| 43/43 [00:02<00:00, 21.17batch/s, accuracy=0.701, loss=0.00686]\n",
      "Epoch 11: 100%|██████████| 43/43 [00:01<00:00, 22.25batch/s, accuracy=0.699, loss=0.00687]\n",
      "Epoch 12: 100%|██████████| 43/43 [00:02<00:00, 20.54batch/s, accuracy=0.698, loss=0.00688]\n",
      "Epoch 13: 100%|██████████| 43/43 [00:02<00:00, 20.59batch/s, accuracy=0.701, loss=0.00687]\n",
      "Epoch 14: 100%|██████████| 43/43 [00:02<00:00, 20.12batch/s, accuracy=0.701, loss=0.00687]\n",
      "Epoch 15: 100%|██████████| 43/43 [00:02<00:00, 20.29batch/s, accuracy=0.701, loss=0.00687]\n",
      "Epoch 16: 100%|██████████| 43/43 [00:01<00:00, 22.12batch/s, accuracy=0.7, loss=0.00687]  \n",
      "Epoch 17: 100%|██████████| 43/43 [00:02<00:00, 20.58batch/s, accuracy=0.703, loss=0.00686]\n",
      "Epoch 18: 100%|██████████| 43/43 [00:02<00:00, 20.60batch/s, accuracy=0.702, loss=0.00686]\n",
      "Epoch 19: 100%|██████████| 43/43 [00:02<00:00, 21.18batch/s, accuracy=0.701, loss=0.00687]\n",
      "Epoch 20: 100%|██████████| 43/43 [00:02<00:00, 20.49batch/s, accuracy=0.701, loss=0.00687]\n",
      "Epoch 21: 100%|██████████| 43/43 [00:02<00:00, 21.19batch/s, accuracy=0.7, loss=0.00687]  \n",
      "Epoch 22: 100%|██████████| 43/43 [00:02<00:00, 21.32batch/s, accuracy=0.702, loss=0.00686]\n",
      "Epoch 23: 100%|██████████| 43/43 [00:02<00:00, 20.51batch/s, accuracy=0.702, loss=0.00686]\n",
      "Epoch 24: 100%|██████████| 43/43 [00:02<00:00, 21.00batch/s, accuracy=0.701, loss=0.00687]\n",
      "Epoch 25: 100%|██████████| 43/43 [00:02<00:00, 20.99batch/s, accuracy=0.7, loss=0.00687]  \n",
      "Epoch 26: 100%|██████████| 43/43 [00:02<00:00, 21.06batch/s, accuracy=0.7, loss=0.00687]  \n",
      "Epoch 27: 100%|██████████| 43/43 [00:02<00:00, 20.28batch/s, accuracy=0.701, loss=0.00687]\n",
      "Epoch 28: 100%|██████████| 43/43 [00:02<00:00, 20.69batch/s, accuracy=0.701, loss=0.00686]\n",
      "Epoch 29: 100%|██████████| 43/43 [00:01<00:00, 22.01batch/s, accuracy=0.702, loss=0.00686]\n",
      "Epoch 30: 100%|██████████| 43/43 [00:02<00:00, 20.50batch/s, accuracy=0.703, loss=0.00686]\n",
      "Epoch 31: 100%|██████████| 43/43 [00:02<00:00, 20.46batch/s, accuracy=0.703, loss=0.00686]\n",
      "Epoch 32: 100%|██████████| 43/43 [00:01<00:00, 21.73batch/s, accuracy=0.7, loss=0.00687]  \n",
      "Epoch 33: 100%|██████████| 43/43 [00:02<00:00, 19.58batch/s, accuracy=0.703, loss=0.00686]\n",
      "Epoch 34: 100%|██████████| 43/43 [00:02<00:00, 20.94batch/s, accuracy=0.704, loss=0.00686]\n",
      "Epoch 35: 100%|██████████| 43/43 [00:02<00:00, 21.08batch/s, accuracy=0.701, loss=0.00686]\n",
      "Epoch 36: 100%|██████████| 43/43 [00:02<00:00, 20.37batch/s, accuracy=0.701, loss=0.00686]\n",
      "Epoch 37: 100%|██████████| 43/43 [00:02<00:00, 20.23batch/s, accuracy=0.703, loss=0.00686]\n",
      "Epoch 38: 100%|██████████| 43/43 [00:02<00:00, 21.14batch/s, accuracy=0.703, loss=0.00686]\n",
      "Epoch 39: 100%|██████████| 43/43 [00:02<00:00, 20.25batch/s, accuracy=0.701, loss=0.00686]\n",
      "Epoch 40: 100%|██████████| 43/43 [00:02<00:00, 20.26batch/s, accuracy=0.702, loss=0.00686]\n",
      "Epoch 41: 100%|██████████| 43/43 [00:02<00:00, 20.46batch/s, accuracy=0.702, loss=0.00686]\n",
      "Epoch 42: 100%|██████████| 43/43 [00:02<00:00, 21.34batch/s, accuracy=0.7, loss=0.00687]  \n",
      "Epoch 43: 100%|██████████| 43/43 [00:02<00:00, 20.14batch/s, accuracy=0.703, loss=0.00686]\n",
      "Epoch 44: 100%|██████████| 43/43 [00:02<00:00, 19.83batch/s, accuracy=0.702, loss=0.00686]\n",
      "Epoch 45: 100%|██████████| 43/43 [00:02<00:00, 21.35batch/s, accuracy=0.703, loss=0.00686]\n",
      "Epoch 46: 100%|██████████| 43/43 [00:02<00:00, 18.67batch/s, accuracy=0.701, loss=0.00687]\n",
      "Epoch 47: 100%|██████████| 43/43 [00:02<00:00, 20.01batch/s, accuracy=0.704, loss=0.00686]\n",
      "Epoch 48: 100%|██████████| 43/43 [00:02<00:00, 20.33batch/s, accuracy=0.7, loss=0.00686]  \n",
      "Epoch 49: 100%|██████████| 43/43 [00:02<00:00, 21.34batch/s, accuracy=0.703, loss=0.00686]\n"
     ]
    }
   ],
   "source": [
    "model.cuda()\n",
    "criterion.cuda()\n",
    "\n",
    "device = torch.device(\"cuda:0\")\n",
    "# top_acc = 0\n",
    "for epoch in range(50):\n",
    "    model.train()\n",
    "    running_loss = 0.0\n",
    "    curr_corr = 0.0\n",
    "    ctr = 0\n",
    "    with tqdm(train_loader, unit=\"batch\") as tepoch:\n",
    "        for data, target in tepoch:\n",
    "            ctr += 1\n",
    "            model.train()\n",
    "            tepoch.set_description(f\"Epoch {epoch}\")\n",
    "\n",
    "            data, target = data.to(device), target.to(device)\n",
    "            optimizer.zero_grad()\n",
    "            output = model(data)\n",
    "            predictions = output.argmax(dim=1, keepdim=True).squeeze()\n",
    "            loss = criterion(output, target)\n",
    "            correct = (predictions == target).sum().item()\n",
    "            accuracy = correct / batch_size\n",
    "            curr_corr += correct\n",
    "            running_loss += loss.item()\n",
    "            loss.backward()\n",
    "            optimizer.step()\n",
    "            tepoch.set_postfix(loss=running_loss/(batch_size*ctr), accuracy=curr_corr/(batch_size*ctr))\n",
    "    acc = eval()\n",
    "    if acc > top_acc:\n",
    "        top_acc = acc\n",
    "        print(\"Saving model with accuracy: \", acc)\n",
    "        torch.save(model, \"baseline_model.pt\")    "
   ]
  },
  {
   "cell_type": "code",
   "execution_count": 12,
   "metadata": {},
   "outputs": [
    {
     "name": "stderr",
     "output_type": "stream",
     "text": [
      "C:\\Users\\Dinesh Sathia Raj\\AppData\\Roaming\\Python\\Python39\\site-packages\\torch\\nn\\modules\\container.py:204: UserWarning: Implicit dimension choice for softmax has been deprecated. Change the call to include dim=X as an argument.\n",
      "  input = module(input)\n"
     ]
    },
    {
     "data": {
      "text/plain": [
       "<AxesSubplot:>"
      ]
     },
     "execution_count": 12,
     "metadata": {},
     "output_type": "execute_result"
    },
    {
     "data": {
      "image/png": "[encoded data removed]",
      "text/plain": [
       "<Figure size 1368x504 with 2 Axes>"
      ]
     },
     "metadata": {
      "needs_background": "light"
     },
     "output_type": "display_data"
    }
   ],
   "source": [
    "model = torch.load('baseline_model.pt')\n",
    "acc, cf_mat = eval(cf=True)\n",
    "plt.figure(figsize = (19, 7))\n",
    "sn.heatmap(cf_mat, annot=True)"
   ]
  }
 ],
 "metadata": {
  "kernelspec": {
   "display_name": "Python 3.9.10 64-bit",
   "language": "python",
   "name": "python3"
  },
  "language_info": {
   "codemirror_mode": {
    "name": "ipython",
    "version": 3
   },
   "file_extension": ".py",
   "mimetype": "text/x-python",
   "name": "python",
   "nbconvert_exporter": "python",
   "pygments_lexer": "ipython3",
   "version": "3.9.10"
  },
  "orig_nbformat": 4,
  "vscode": {
   "interpreter": {
    "hash": "11938c6bc6919ae2720b4d5011047913343b08a43b18698fd82dedb0d4417594"
   }
  }
 },
 "nbformat": 4,
 "nbformat_minor": 2
}
